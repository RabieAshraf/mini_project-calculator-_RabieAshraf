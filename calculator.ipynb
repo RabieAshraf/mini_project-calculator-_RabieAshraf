{
  "nbformat": 4,
  "nbformat_minor": 0,
  "metadata": {
    "colab": {
      "name": "calc.ipynb",
      "provenance": [],
      "collapsed_sections": []
    },
    "kernelspec": {
      "name": "python3",
      "display_name": "Python 3"
    },
    "language_info": {
      "name": "python"
    }
  },
  "cells": [
    {
      "cell_type": "markdown",
      "source": [
        "**Mini Project(Mini Calculator):**"
      ],
      "metadata": {
        "id": "wLaptE8N_ud1"
      }
    },
    {
      "cell_type": "code",
      "execution_count": 1,
      "metadata": {
        "id": "35KBi61o_ssc"
      },
      "outputs": [],
      "source": [
        "def Addition (num1,num2):\n",
        "  sum=num1+num2\n",
        "  return sum\n"
      ]
    },
    {
      "cell_type": "code",
      "source": [
        "def Subtraction(num1,num2):\n",
        "  sub=num1-num2\n",
        "  return sub\n"
      ],
      "metadata": {
        "id": "YpkpQfwIA1HW"
      },
      "execution_count": 5,
      "outputs": []
    },
    {
      "cell_type": "code",
      "source": [
        "def Multiplication(num1,num2):\n",
        "  mult=num1*num2\n",
        "  return mult"
      ],
      "metadata": {
        "id": "RRr0y6dMBKqv"
      },
      "execution_count": 3,
      "outputs": []
    },
    {
      "cell_type": "code",
      "source": [
        "def Division(num1,num2):\n",
        "  div=num1/num2\n",
        "  return div"
      ],
      "metadata": {
        "id": "ty4dGN0jBa2E"
      },
      "execution_count": 4,
      "outputs": []
    },
    {
      "cell_type": "code",
      "source": [
        "def calc(command,num1,num2):\n",
        "  if command==\"add\":\n",
        "    print(Addition(num1,num2))\n",
        "  elif command==\"sub\":\n",
        "    print(Subtraction(num1,num2))\n",
        "  elif command==\"mult\":\n",
        "    print(Multiplication(num1,num2))\n",
        "  elif command==\"div\":\n",
        "    print(Division(num1,num2))"
      ],
      "metadata": {
        "id": "EuZjvWnRB1X0"
      },
      "execution_count": 6,
      "outputs": []
    }
  ]
}