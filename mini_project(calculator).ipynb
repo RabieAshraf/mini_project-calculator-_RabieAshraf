{
  "nbformat": 4,
  "nbformat_minor": 0,
  "metadata": {
    "colab": {
      "name": "mini_project(calculator).ipynb",
      "provenance": [],
      "collapsed_sections": []
    },
    "kernelspec": {
      "name": "python3",
      "display_name": "Python 3"
    },
    "language_info": {
      "name": "python"
    }
  },
  "cells": [
    {
      "cell_type": "code",
      "execution_count": 4,
      "metadata": {
        "id": "s9zHyI8Y3Xt_"
      },
      "outputs": [],
      "source": [
        "import calculator\n",
        "from calculator import calc"
      ]
    },
    {
      "cell_type": "code",
      "source": [
        "answer=\"yes\"\n",
        "while (answer==\"yes\"):\n",
        "  n1=input(\"enter first number:\")\n",
        "  n2=input(\"enter second number:\")\n",
        "  command=input(\"enter the operation(add/sub/mult/div):\")\n",
        "  print(\"the result is:\")\n",
        "  calc(command,int(n1),int(n2))\n",
        "  answer=input(\"do you want to make another operation?(yes/no):\")"
      ],
      "metadata": {
        "colab": {
          "base_uri": "https://localhost:8080/"
        },
        "id": "IeyFTIsk4quv",
        "outputId": "e32db790-e809-4589-e96b-8fb8ce7b07ad"
      },
      "execution_count": 12,
      "outputs": [
        {
          "name": "stdout",
          "output_type": "stream",
          "text": [
            "enter first number:2\n",
            "enter second number:5\n",
            "enter the operation(add/sub/mult/div):add\n",
            "the result is:\n",
            "7\n",
            "do you want to make another operation?(yes/no):yes\n",
            "enter first number:2\n",
            "enter second number:5\n",
            "enter the operation(add/sub/mult/div):mult\n",
            "the result is:\n",
            "10\n",
            "do you want to make another operation?(yes/no):no\n"
          ]
        }
      ]
    }
  ]
}