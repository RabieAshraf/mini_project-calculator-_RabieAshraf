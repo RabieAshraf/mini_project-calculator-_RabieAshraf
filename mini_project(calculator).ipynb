{
  "nbformat": 4,
  "nbformat_minor": 0,
  "metadata": {
    "colab": {
      "name": "Untitled8.ipynb",
      "provenance": [],
      "collapsed_sections": []
    },
    "kernelspec": {
      "name": "python3",
      "display_name": "Python 3"
    },
    "language_info": {
      "name": "python"
    }
  },
  "cells": [
    {
      "cell_type": "code",
      "execution_count": 4,
      "metadata": {
        "id": "s9zHyI8Y3Xt_"
      },
      "outputs": [],
      "source": [
        "import calculator\n",
        "from calculator import calc"
      ]
    },
    {
      "cell_type": "code",
      "source": [
        "answer=\"yes\"\n",
        "while (answer==\"yes\"):\n",
        "  n1=input(\"enter first number:\")\n",
        "  n2=input(\"enter second number:\")\n",
        "  command=input(\"enter the operation(add/sub/mult/div):\")\n",
        "  print(\"the result is:\")\n",
        "  calc(command,int(n1),int(n2))\n",
        "  answer=input(\"do you want to make another operation?(yes/no)\")"
      ],
      "metadata": {
        "colab": {
          "base_uri": "https://localhost:8080/"
        },
        "id": "IeyFTIsk4quv",
        "outputId": "0c20b143-81ea-4446-b535-261825adabd3"
      },
      "execution_count": 9,
      "outputs": [
        {
          "name": "stdout",
          "output_type": "stream",
          "text": [
            "enter first number:2\n",
            "enter second number:2\n",
            "enter the operation(add/sub/mult/div):div\n",
            "the result is:\n",
            "1.0\n",
            "do you want to make another operation?(yes/no)no\n"
          ]
        }
      ]
    }
  ]
}